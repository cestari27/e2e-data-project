{
 "cells": [
  {
   "cell_type": "code",
   "execution_count": 0,
   "metadata": {
    "application/vnd.databricks.v1+cell": {
     "cellMetadata": {
      "byteLimit": 2048000,
      "rowLimit": 10000
     },
     "inputWidgets": {},
     "nuid": "eecd0c39-51b6-4846-a778-2705405d3ba2",
     "showTitle": false,
     "tableResultSettingsMap": {},
     "title": ""
    }
   },
   "outputs": [],
   "source": [
    "# This notebook is meant to run batch inference on the top of new iris samples"
   ]
  },
  {
   "cell_type": "code",
   "execution_count": 0,
   "metadata": {
    "application/vnd.databricks.v1+cell": {
     "cellMetadata": {
      "byteLimit": 2048000,
      "rowLimit": 10000
     },
     "collapsed": true,
     "inputWidgets": {},
     "nuid": "c5ba3b37-1f41-465f-b63a-f21c7b310d5a",
     "showTitle": false,
     "tableResultSettingsMap": {},
     "title": ""
    }
   },
   "outputs": [],
   "source": [
    "%pip install mlflow --upgrade\n",
    "dbutils.library.restartPython()"
   ]
  },
  {
   "cell_type": "code",
   "execution_count": 0,
   "metadata": {
    "application/vnd.databricks.v1+cell": {
     "cellMetadata": {
      "byteLimit": 2048000,
      "rowLimit": 10000
     },
     "inputWidgets": {},
     "nuid": "34837c3f-e57b-4f68-8820-9676cc8687f5",
     "showTitle": false,
     "tableResultSettingsMap": {},
     "title": ""
    }
   },
   "outputs": [],
   "source": [
    "from sklearn import datasets\n",
    "from mlflow.pyfunc import load_model\n",
    "import pandas as pd\n",
    "import mlflow\n",
    "from datetime import datetime"
   ]
  },
  {
   "cell_type": "code",
   "execution_count": 0,
   "metadata": {
    "application/vnd.databricks.v1+cell": {
     "cellMetadata": {
      "byteLimit": 2048000,
      "rowLimit": 10000
     },
     "inputWidgets": {},
     "nuid": "dea4f346-38f2-4ac8-8ad5-12dbea72581e",
     "showTitle": false,
     "tableResultSettingsMap": {},
     "title": ""
    }
   },
   "outputs": [],
   "source": [
    "dbutils.widgets.text(\"catalog_name\", \"pedroz_e2edata_dev\")\n",
    "catalog_name = dbutils.widgets.get(\"catalog_name\")"
   ]
  },
  {
   "cell_type": "code",
   "execution_count": 0,
   "metadata": {
    "application/vnd.databricks.v1+cell": {
     "cellMetadata": {
      "byteLimit": 2048000,
      "rowLimit": 10000
     },
     "inputWidgets": {},
     "nuid": "1f14ab9f-3de3-42ff-9acd-28ad69f99a0f",
     "showTitle": false,
     "tableResultSettingsMap": {},
     "title": ""
    }
   },
   "outputs": [],
   "source": [
    "model_name = f'{catalog_name}.default.iris_model'"
   ]
  },
  {
   "cell_type": "code",
   "execution_count": 0,
   "metadata": {
    "application/vnd.databricks.v1+cell": {
     "cellMetadata": {
      "byteLimit": 2048000,
      "rowLimit": 10000
     },
     "inputWidgets": {},
     "nuid": "36c73312-834e-461b-840b-4f6733d88317",
     "showTitle": false,
     "tableResultSettingsMap": {},
     "title": ""
    }
   },
   "outputs": [
    {
     "name": "stderr",
     "output_type": "stream",
     "text": [
      "/home/spark-942498eb-6ae9-413b-84de-40/.ipykernel/31245/command-6623450943765523-4118003963:4: FutureWarning: The default value of regex will change from True to False in a future version. In addition, single character regular expressions will *not* be treated as literal strings when regex=True.\n",
      "  df_samples.columns = df_samples.columns.str.replace(' ', '_').str.replace('(', '').str.replace(')', '')\n",
      "/home/spark-942498eb-6ae9-413b-84de-40/.ipykernel/31245/command-6623450943765523-4118003963:4: FutureWarning: The default value of regex will change from True to False in a future version. In addition, single character regular expressions will *not* be treated as literal strings when regex=True.\n",
      "  df_samples.columns = df_samples.columns.str.replace(' ', '_').str.replace('(', '').str.replace(')', '')\n"
     ]
    },
    {
     "data": {
      "text/html": [
       "<div>\n",
       "<style scoped>\n",
       "    .dataframe tbody tr th:only-of-type {\n",
       "        vertical-align: middle;\n",
       "    }\n",
       "\n",
       "    .dataframe tbody tr th {\n",
       "        vertical-align: top;\n",
       "    }\n",
       "\n",
       "    .dataframe thead th {\n",
       "        text-align: right;\n",
       "    }\n",
       "</style>\n",
       "<table border=\"1\" class=\"dataframe\">\n",
       "  <thead>\n",
       "    <tr style=\"text-align: right;\">\n",
       "      <th></th>\n",
       "      <th>sepal_length_cm</th>\n",
       "      <th>sepal_width_cm</th>\n",
       "      <th>petal_length_cm</th>\n",
       "      <th>petal_width_cm</th>\n",
       "    </tr>\n",
       "  </thead>\n",
       "  <tbody>\n",
       "    <tr>\n",
       "      <th>0</th>\n",
       "      <td>5.1</td>\n",
       "      <td>3.5</td>\n",
       "      <td>1.4</td>\n",
       "      <td>0.2</td>\n",
       "    </tr>\n",
       "    <tr>\n",
       "      <th>1</th>\n",
       "      <td>4.9</td>\n",
       "      <td>3.0</td>\n",
       "      <td>1.4</td>\n",
       "      <td>0.2</td>\n",
       "    </tr>\n",
       "    <tr>\n",
       "      <th>2</th>\n",
       "      <td>4.7</td>\n",
       "      <td>3.2</td>\n",
       "      <td>1.3</td>\n",
       "      <td>0.2</td>\n",
       "    </tr>\n",
       "    <tr>\n",
       "      <th>3</th>\n",
       "      <td>4.6</td>\n",
       "      <td>3.1</td>\n",
       "      <td>1.5</td>\n",
       "      <td>0.2</td>\n",
       "    </tr>\n",
       "    <tr>\n",
       "      <th>4</th>\n",
       "      <td>5.0</td>\n",
       "      <td>3.6</td>\n",
       "      <td>1.4</td>\n",
       "      <td>0.2</td>\n",
       "    </tr>\n",
       "  </tbody>\n",
       "</table>\n",
       "</div>"
      ],
      "text/plain": [
       "   sepal_length_cm  sepal_width_cm  petal_length_cm  petal_width_cm\n",
       "0              5.1             3.5              1.4             0.2\n",
       "1              4.9             3.0              1.4             0.2\n",
       "2              4.7             3.2              1.3             0.2\n",
       "3              4.6             3.1              1.5             0.2\n",
       "4              5.0             3.6              1.4             0.2"
      ]
     },
     "execution_count": 4,
     "metadata": {},
     "output_type": "execute_result"
    }
   ],
   "source": [
    "# Pull the dataset for running the inference\n",
    "iris_samples = datasets.load_iris(as_frame=True)\n",
    "df_samples = pd.DataFrame(data = iris_samples['data'], columns = iris_samples['feature_names'])\n",
    "df_samples.columns = df_samples.columns.str.replace(' ', '_').str.replace('(', '').str.replace(')', '')\n",
    "df_samples.head()"
   ]
  },
  {
   "cell_type": "code",
   "execution_count": 0,
   "metadata": {
    "application/vnd.databricks.v1+cell": {
     "cellMetadata": {
      "byteLimit": 2048000,
      "rowLimit": 10000
     },
     "inputWidgets": {},
     "nuid": "470892ae-0135-4e8e-a1ea-decd40f883d3",
     "showTitle": false,
     "tableResultSettingsMap": {},
     "title": ""
    }
   },
   "outputs": [],
   "source": [
    "model_uri = f\"models:/{model_name}@champion\"\n",
    "model = load_model(model_uri)"
   ]
  },
  {
   "cell_type": "code",
   "execution_count": 0,
   "metadata": {
    "application/vnd.databricks.v1+cell": {
     "cellMetadata": {
      "byteLimit": 2048000,
      "rowLimit": 10000
     },
     "inputWidgets": {},
     "nuid": "cda93c22-763e-48fd-9587-23662f51bf25",
     "showTitle": false,
     "tableResultSettingsMap": {},
     "title": ""
    }
   },
   "outputs": [
    {
     "data": {
      "text/html": [
       "<div>\n",
       "<style scoped>\n",
       "    .dataframe tbody tr th:only-of-type {\n",
       "        vertical-align: middle;\n",
       "    }\n",
       "\n",
       "    .dataframe tbody tr th {\n",
       "        vertical-align: top;\n",
       "    }\n",
       "\n",
       "    .dataframe thead th {\n",
       "        text-align: right;\n",
       "    }\n",
       "</style>\n",
       "<table border=\"1\" class=\"dataframe\">\n",
       "  <thead>\n",
       "    <tr style=\"text-align: right;\">\n",
       "      <th></th>\n",
       "      <th>sepal_length_cm</th>\n",
       "      <th>sepal_width_cm</th>\n",
       "      <th>petal_length_cm</th>\n",
       "      <th>petal_width_cm</th>\n",
       "      <th>prediction</th>\n",
       "    </tr>\n",
       "  </thead>\n",
       "  <tbody>\n",
       "    <tr>\n",
       "      <th>0</th>\n",
       "      <td>5.1</td>\n",
       "      <td>3.5</td>\n",
       "      <td>1.4</td>\n",
       "      <td>0.2</td>\n",
       "      <td>0</td>\n",
       "    </tr>\n",
       "    <tr>\n",
       "      <th>1</th>\n",
       "      <td>4.9</td>\n",
       "      <td>3.0</td>\n",
       "      <td>1.4</td>\n",
       "      <td>0.2</td>\n",
       "      <td>0</td>\n",
       "    </tr>\n",
       "    <tr>\n",
       "      <th>2</th>\n",
       "      <td>4.7</td>\n",
       "      <td>3.2</td>\n",
       "      <td>1.3</td>\n",
       "      <td>0.2</td>\n",
       "      <td>0</td>\n",
       "    </tr>\n",
       "    <tr>\n",
       "      <th>3</th>\n",
       "      <td>4.6</td>\n",
       "      <td>3.1</td>\n",
       "      <td>1.5</td>\n",
       "      <td>0.2</td>\n",
       "      <td>0</td>\n",
       "    </tr>\n",
       "    <tr>\n",
       "      <th>4</th>\n",
       "      <td>5.0</td>\n",
       "      <td>3.6</td>\n",
       "      <td>1.4</td>\n",
       "      <td>0.2</td>\n",
       "      <td>0</td>\n",
       "    </tr>\n",
       "  </tbody>\n",
       "</table>\n",
       "</div>"
      ],
      "text/plain": [
       "   sepal_length_cm  sepal_width_cm  petal_length_cm  petal_width_cm  prediction\n",
       "0              5.1             3.5              1.4             0.2           0\n",
       "1              4.9             3.0              1.4             0.2           0\n",
       "2              4.7             3.2              1.3             0.2           0\n",
       "3              4.6             3.1              1.5             0.2           0\n",
       "4              5.0             3.6              1.4             0.2           0"
      ]
     },
     "execution_count": 6,
     "metadata": {},
     "output_type": "execute_result"
    }
   ],
   "source": [
    "predictions = model.predict(df_samples)\n",
    "df_samples['prediction'] = predictions\n",
    "\n",
    "df_samples.head()"
   ]
  },
  {
   "cell_type": "code",
   "execution_count": 0,
   "metadata": {
    "application/vnd.databricks.v1+cell": {
     "cellMetadata": {
      "byteLimit": 2048000,
      "rowLimit": 10000
     },
     "inputWidgets": {},
     "nuid": "8c157a55-1d6b-4fee-811a-8704cc487a46",
     "showTitle": false,
     "tableResultSettingsMap": {},
     "title": ""
    }
   },
   "outputs": [
    {
     "data": {
      "text/html": [
       "<div>\n",
       "<style scoped>\n",
       "    .dataframe tbody tr th:only-of-type {\n",
       "        vertical-align: middle;\n",
       "    }\n",
       "\n",
       "    .dataframe tbody tr th {\n",
       "        vertical-align: top;\n",
       "    }\n",
       "\n",
       "    .dataframe thead th {\n",
       "        text-align: right;\n",
       "    }\n",
       "</style>\n",
       "<table border=\"1\" class=\"dataframe\">\n",
       "  <thead>\n",
       "    <tr style=\"text-align: right;\">\n",
       "      <th></th>\n",
       "      <th>sepal_length_cm</th>\n",
       "      <th>sepal_width_cm</th>\n",
       "      <th>petal_length_cm</th>\n",
       "      <th>petal_width_cm</th>\n",
       "      <th>prediction</th>\n",
       "      <th>actual_label</th>\n",
       "    </tr>\n",
       "  </thead>\n",
       "  <tbody>\n",
       "    <tr>\n",
       "      <th>0</th>\n",
       "      <td>5.1</td>\n",
       "      <td>3.5</td>\n",
       "      <td>1.4</td>\n",
       "      <td>0.2</td>\n",
       "      <td>0</td>\n",
       "      <td>0</td>\n",
       "    </tr>\n",
       "    <tr>\n",
       "      <th>1</th>\n",
       "      <td>4.9</td>\n",
       "      <td>3.0</td>\n",
       "      <td>1.4</td>\n",
       "      <td>0.2</td>\n",
       "      <td>0</td>\n",
       "      <td>0</td>\n",
       "    </tr>\n",
       "    <tr>\n",
       "      <th>2</th>\n",
       "      <td>4.7</td>\n",
       "      <td>3.2</td>\n",
       "      <td>1.3</td>\n",
       "      <td>0.2</td>\n",
       "      <td>0</td>\n",
       "      <td>0</td>\n",
       "    </tr>\n",
       "    <tr>\n",
       "      <th>3</th>\n",
       "      <td>4.6</td>\n",
       "      <td>3.1</td>\n",
       "      <td>1.5</td>\n",
       "      <td>0.2</td>\n",
       "      <td>0</td>\n",
       "      <td>0</td>\n",
       "    </tr>\n",
       "    <tr>\n",
       "      <th>4</th>\n",
       "      <td>5.0</td>\n",
       "      <td>3.6</td>\n",
       "      <td>1.4</td>\n",
       "      <td>0.2</td>\n",
       "      <td>0</td>\n",
       "      <td>0</td>\n",
       "    </tr>\n",
       "  </tbody>\n",
       "</table>\n",
       "</div>"
      ],
      "text/plain": [
       "   sepal_length_cm  sepal_width_cm  ...  prediction  actual_label\n",
       "0              5.1             3.5  ...           0             0\n",
       "1              4.9             3.0  ...           0             0\n",
       "2              4.7             3.2  ...           0             0\n",
       "3              4.6             3.1  ...           0             0\n",
       "4              5.0             3.6  ...           0             0\n",
       "\n",
       "[5 rows x 6 columns]"
      ]
     },
     "execution_count": 7,
     "metadata": {},
     "output_type": "execute_result"
    }
   ],
   "source": [
    "df_samples['actual_label'] = iris_samples['target']\n",
    "df_samples.head()"
   ]
  },
  {
   "cell_type": "code",
   "execution_count": 0,
   "metadata": {
    "application/vnd.databricks.v1+cell": {
     "cellMetadata": {
      "byteLimit": 2048000,
      "rowLimit": 10000
     },
     "inputWidgets": {},
     "nuid": "6a6fb952-66ab-4dc3-b843-9d9ba4ead94d",
     "showTitle": false,
     "tableResultSettingsMap": {},
     "title": ""
    }
   },
   "outputs": [
    {
     "data": {
      "text/html": [
       "<style scoped>\n",
       "  .table-result-container {\n",
       "    max-height: 300px;\n",
       "    overflow: auto;\n",
       "  }\n",
       "  table, th, td {\n",
       "    border: 1px solid black;\n",
       "    border-collapse: collapse;\n",
       "  }\n",
       "  th, td {\n",
       "    padding: 5px;\n",
       "  }\n",
       "  th {\n",
       "    text-align: left;\n",
       "  }\n",
       "</style><div class='table-result-container'><table class='table-result'><thead style='background-color: white'><tr><th>sepal_length_cm</th><th>sepal_width_cm</th><th>petal_length_cm</th><th>petal_width_cm</th><th>prediction</th><th>actual_label</th><th>prediction_timestamp</th><th>model_id_col</th></tr></thead><tbody><tr><td>5.1</td><td>3.5</td><td>1.4</td><td>0.2</td><td>0</td><td>0</td><td>2025-08-11 13:12:12</td><td>pedroz_e2edata_dev.default.iris_model@21</td></tr><tr><td>4.9</td><td>3.0</td><td>1.4</td><td>0.2</td><td>0</td><td>0</td><td>2025-08-11 13:12:12</td><td>pedroz_e2edata_dev.default.iris_model@21</td></tr><tr><td>4.7</td><td>3.2</td><td>1.3</td><td>0.2</td><td>0</td><td>0</td><td>2025-08-11 13:12:12</td><td>pedroz_e2edata_dev.default.iris_model@21</td></tr><tr><td>4.6</td><td>3.1</td><td>1.5</td><td>0.2</td><td>0</td><td>0</td><td>2025-08-11 13:12:12</td><td>pedroz_e2edata_dev.default.iris_model@21</td></tr><tr><td>5.0</td><td>3.6</td><td>1.4</td><td>0.2</td><td>0</td><td>0</td><td>2025-08-11 13:12:12</td><td>pedroz_e2edata_dev.default.iris_model@21</td></tr><tr><td>5.4</td><td>3.9</td><td>1.7</td><td>0.4</td><td>0</td><td>0</td><td>2025-08-11 13:12:12</td><td>pedroz_e2edata_dev.default.iris_model@21</td></tr><tr><td>4.6</td><td>3.4</td><td>1.4</td><td>0.3</td><td>0</td><td>0</td><td>2025-08-11 13:12:12</td><td>pedroz_e2edata_dev.default.iris_model@21</td></tr><tr><td>5.0</td><td>3.4</td><td>1.5</td><td>0.2</td><td>0</td><td>0</td><td>2025-08-11 13:12:12</td><td>pedroz_e2edata_dev.default.iris_model@21</td></tr><tr><td>4.4</td><td>2.9</td><td>1.4</td><td>0.2</td><td>0</td><td>0</td><td>2025-08-11 13:12:12</td><td>pedroz_e2edata_dev.default.iris_model@21</td></tr><tr><td>4.9</td><td>3.1</td><td>1.5</td><td>0.1</td><td>0</td><td>0</td><td>2025-08-11 13:12:12</td><td>pedroz_e2edata_dev.default.iris_model@21</td></tr><tr><td>5.4</td><td>3.7</td><td>1.5</td><td>0.2</td><td>0</td><td>0</td><td>2025-08-11 13:12:12</td><td>pedroz_e2edata_dev.default.iris_model@21</td></tr><tr><td>4.8</td><td>3.4</td><td>1.6</td><td>0.2</td><td>0</td><td>0</td><td>2025-08-11 13:12:12</td><td>pedroz_e2edata_dev.default.iris_model@21</td></tr><tr><td>4.8</td><td>3.0</td><td>1.4</td><td>0.1</td><td>0</td><td>0</td><td>2025-08-11 13:12:12</td><td>pedroz_e2edata_dev.default.iris_model@21</td></tr><tr><td>4.3</td><td>3.0</td><td>1.1</td><td>0.1</td><td>0</td><td>0</td><td>2025-08-11 13:12:12</td><td>pedroz_e2edata_dev.default.iris_model@21</td></tr><tr><td>5.8</td><td>4.0</td><td>1.2</td><td>0.2</td><td>0</td><td>0</td><td>2025-08-11 13:12:12</td><td>pedroz_e2edata_dev.default.iris_model@21</td></tr><tr><td>5.7</td><td>4.4</td><td>1.5</td><td>0.4</td><td>0</td><td>0</td><td>2025-08-11 13:12:12</td><td>pedroz_e2edata_dev.default.iris_model@21</td></tr><tr><td>5.4</td><td>3.9</td><td>1.3</td><td>0.4</td><td>0</td><td>0</td><td>2025-08-11 13:12:12</td><td>pedroz_e2edata_dev.default.iris_model@21</td></tr><tr><td>5.1</td><td>3.5</td><td>1.4</td><td>0.3</td><td>0</td><td>0</td><td>2025-08-11 13:12:12</td><td>pedroz_e2edata_dev.default.iris_model@21</td></tr><tr><td>5.7</td><td>3.8</td><td>1.7</td><td>0.3</td><td>0</td><td>0</td><td>2025-08-11 13:12:12</td><td>pedroz_e2edata_dev.default.iris_model@21</td></tr><tr><td>5.1</td><td>3.8</td><td>1.5</td><td>0.3</td><td>0</td><td>0</td><td>2025-08-11 13:12:12</td><td>pedroz_e2edata_dev.default.iris_model@21</td></tr><tr><td>5.4</td><td>3.4</td><td>1.7</td><td>0.2</td><td>0</td><td>0</td><td>2025-08-11 13:12:12</td><td>pedroz_e2edata_dev.default.iris_model@21</td></tr><tr><td>5.1</td><td>3.7</td><td>1.5</td><td>0.4</td><td>0</td><td>0</td><td>2025-08-11 13:12:12</td><td>pedroz_e2edata_dev.default.iris_model@21</td></tr><tr><td>4.6</td><td>3.6</td><td>1.0</td><td>0.2</td><td>0</td><td>0</td><td>2025-08-11 13:12:12</td><td>pedroz_e2edata_dev.default.iris_model@21</td></tr><tr><td>5.1</td><td>3.3</td><td>1.7</td><td>0.5</td><td>0</td><td>0</td><td>2025-08-11 13:12:12</td><td>pedroz_e2edata_dev.default.iris_model@21</td></tr><tr><td>4.8</td><td>3.4</td><td>1.9</td><td>0.2</td><td>0</td><td>0</td><td>2025-08-11 13:12:12</td><td>pedroz_e2edata_dev.default.iris_model@21</td></tr><tr><td>5.0</td><td>3.0</td><td>1.6</td><td>0.2</td><td>0</td><td>0</td><td>2025-08-11 13:12:12</td><td>pedroz_e2edata_dev.default.iris_model@21</td></tr><tr><td>5.0</td><td>3.4</td><td>1.6</td><td>0.4</td><td>0</td><td>0</td><td>2025-08-11 13:12:12</td><td>pedroz_e2edata_dev.default.iris_model@21</td></tr><tr><td>5.2</td><td>3.5</td><td>1.5</td><td>0.2</td><td>0</td><td>0</td><td>2025-08-11 13:12:12</td><td>pedroz_e2edata_dev.default.iris_model@21</td></tr><tr><td>5.2</td><td>3.4</td><td>1.4</td><td>0.2</td><td>0</td><td>0</td><td>2025-08-11 13:12:12</td><td>pedroz_e2edata_dev.default.iris_model@21</td></tr><tr><td>4.7</td><td>3.2</td><td>1.6</td><td>0.2</td><td>0</td><td>0</td><td>2025-08-11 13:12:12</td><td>pedroz_e2edata_dev.default.iris_model@21</td></tr><tr><td>4.8</td><td>3.1</td><td>1.6</td><td>0.2</td><td>0</td><td>0</td><td>2025-08-11 13:12:12</td><td>pedroz_e2edata_dev.default.iris_model@21</td></tr><tr><td>5.4</td><td>3.4</td><td>1.5</td><td>0.4</td><td>0</td><td>0</td><td>2025-08-11 13:12:12</td><td>pedroz_e2edata_dev.default.iris_model@21</td></tr><tr><td>5.2</td><td>4.1</td><td>1.5</td><td>0.1</td><td>0</td><td>0</td><td>2025-08-11 13:12:12</td><td>pedroz_e2edata_dev.default.iris_model@21</td></tr><tr><td>5.5</td><td>4.2</td><td>1.4</td><td>0.2</td><td>0</td><td>0</td><td>2025-08-11 13:12:12</td><td>pedroz_e2edata_dev.default.iris_model@21</td></tr><tr><td>4.9</td><td>3.1</td><td>1.5</td><td>0.2</td><td>0</td><td>0</td><td>2025-08-11 13:12:12</td><td>pedroz_e2edata_dev.default.iris_model@21</td></tr><tr><td>5.0</td><td>3.2</td><td>1.2</td><td>0.2</td><td>0</td><td>0</td><td>2025-08-11 13:12:12</td><td>pedroz_e2edata_dev.default.iris_model@21</td></tr><tr><td>5.5</td><td>3.5</td><td>1.3</td><td>0.2</td><td>0</td><td>0</td><td>2025-08-11 13:12:12</td><td>pedroz_e2edata_dev.default.iris_model@21</td></tr><tr><td>4.9</td><td>3.6</td><td>1.4</td><td>0.1</td><td>0</td><td>0</td><td>2025-08-11 13:12:12</td><td>pedroz_e2edata_dev.default.iris_model@21</td></tr><tr><td>4.4</td><td>3.0</td><td>1.3</td><td>0.2</td><td>0</td><td>0</td><td>2025-08-11 13:12:12</td><td>pedroz_e2edata_dev.default.iris_model@21</td></tr><tr><td>5.1</td><td>3.4</td><td>1.5</td><td>0.2</td><td>0</td><td>0</td><td>2025-08-11 13:12:12</td><td>pedroz_e2edata_dev.default.iris_model@21</td></tr><tr><td>5.0</td><td>3.5</td><td>1.3</td><td>0.3</td><td>0</td><td>0</td><td>2025-08-11 13:12:12</td><td>pedroz_e2edata_dev.default.iris_model@21</td></tr><tr><td>4.5</td><td>2.3</td><td>1.3</td><td>0.3</td><td>0</td><td>0</td><td>2025-08-11 13:12:12</td><td>pedroz_e2edata_dev.default.iris_model@21</td></tr><tr><td>4.4</td><td>3.2</td><td>1.3</td><td>0.2</td><td>0</td><td>0</td><td>2025-08-11 13:12:12</td><td>pedroz_e2edata_dev.default.iris_model@21</td></tr><tr><td>5.0</td><td>3.5</td><td>1.6</td><td>0.6</td><td>0</td><td>0</td><td>2025-08-11 13:12:12</td><td>pedroz_e2edata_dev.default.iris_model@21</td></tr><tr><td>5.1</td><td>3.8</td><td>1.9</td><td>0.4</td><td>0</td><td>0</td><td>2025-08-11 13:12:12</td><td>pedroz_e2edata_dev.default.iris_model@21</td></tr><tr><td>4.8</td><td>3.0</td><td>1.4</td><td>0.3</td><td>0</td><td>0</td><td>2025-08-11 13:12:12</td><td>pedroz_e2edata_dev.default.iris_model@21</td></tr><tr><td>5.1</td><td>3.8</td><td>1.6</td><td>0.2</td><td>0</td><td>0</td><td>2025-08-11 13:12:12</td><td>pedroz_e2edata_dev.default.iris_model@21</td></tr><tr><td>4.6</td><td>3.2</td><td>1.4</td><td>0.2</td><td>0</td><td>0</td><td>2025-08-11 13:12:12</td><td>pedroz_e2edata_dev.default.iris_model@21</td></tr><tr><td>5.3</td><td>3.7</td><td>1.5</td><td>0.2</td><td>0</td><td>0</td><td>2025-08-11 13:12:12</td><td>pedroz_e2edata_dev.default.iris_model@21</td></tr><tr><td>5.0</td><td>3.3</td><td>1.4</td><td>0.2</td><td>0</td><td>0</td><td>2025-08-11 13:12:12</td><td>pedroz_e2edata_dev.default.iris_model@21</td></tr><tr><td>7.0</td><td>3.2</td><td>4.7</td><td>1.4</td><td>1</td><td>1</td><td>2025-08-11 13:12:12</td><td>pedroz_e2edata_dev.default.iris_model@21</td></tr><tr><td>6.4</td><td>3.2</td><td>4.5</td><td>1.5</td><td>1</td><td>1</td><td>2025-08-11 13:12:12</td><td>pedroz_e2edata_dev.default.iris_model@21</td></tr><tr><td>6.9</td><td>3.1</td><td>4.9</td><td>1.5</td><td>1</td><td>1</td><td>2025-08-11 13:12:12</td><td>pedroz_e2edata_dev.default.iris_model@21</td></tr><tr><td>5.5</td><td>2.3</td><td>4.0</td><td>1.3</td><td>1</td><td>1</td><td>2025-08-11 13:12:12</td><td>pedroz_e2edata_dev.default.iris_model@21</td></tr><tr><td>6.5</td><td>2.8</td><td>4.6</td><td>1.5</td><td>1</td><td>1</td><td>2025-08-11 13:12:12</td><td>pedroz_e2edata_dev.default.iris_model@21</td></tr><tr><td>5.7</td><td>2.8</td><td>4.5</td><td>1.3</td><td>1</td><td>1</td><td>2025-08-11 13:12:12</td><td>pedroz_e2edata_dev.default.iris_model@21</td></tr><tr><td>6.3</td><td>3.3</td><td>4.7</td><td>1.6</td><td>1</td><td>1</td><td>2025-08-11 13:12:12</td><td>pedroz_e2edata_dev.default.iris_model@21</td></tr><tr><td>4.9</td><td>2.4</td><td>3.3</td><td>1.0</td><td>1</td><td>1</td><td>2025-08-11 13:12:12</td><td>pedroz_e2edata_dev.default.iris_model@21</td></tr><tr><td>6.6</td><td>2.9</td><td>4.6</td><td>1.3</td><td>1</td><td>1</td><td>2025-08-11 13:12:12</td><td>pedroz_e2edata_dev.default.iris_model@21</td></tr><tr><td>5.2</td><td>2.7</td><td>3.9</td><td>1.4</td><td>1</td><td>1</td><td>2025-08-11 13:12:12</td><td>pedroz_e2edata_dev.default.iris_model@21</td></tr><tr><td>5.0</td><td>2.0</td><td>3.5</td><td>1.0</td><td>1</td><td>1</td><td>2025-08-11 13:12:12</td><td>pedroz_e2edata_dev.default.iris_model@21</td></tr><tr><td>5.9</td><td>3.0</td><td>4.2</td><td>1.5</td><td>1</td><td>1</td><td>2025-08-11 13:12:12</td><td>pedroz_e2edata_dev.default.iris_model@21</td></tr><tr><td>6.0</td><td>2.2</td><td>4.0</td><td>1.0</td><td>1</td><td>1</td><td>2025-08-11 13:12:12</td><td>pedroz_e2edata_dev.default.iris_model@21</td></tr><tr><td>6.1</td><td>2.9</td><td>4.7</td><td>1.4</td><td>1</td><td>1</td><td>2025-08-11 13:12:12</td><td>pedroz_e2edata_dev.default.iris_model@21</td></tr><tr><td>5.6</td><td>2.9</td><td>3.6</td><td>1.3</td><td>1</td><td>1</td><td>2025-08-11 13:12:12</td><td>pedroz_e2edata_dev.default.iris_model@21</td></tr><tr><td>6.7</td><td>3.1</td><td>4.4</td><td>1.4</td><td>1</td><td>1</td><td>2025-08-11 13:12:12</td><td>pedroz_e2edata_dev.default.iris_model@21</td></tr><tr><td>5.6</td><td>3.0</td><td>4.5</td><td>1.5</td><td>1</td><td>1</td><td>2025-08-11 13:12:12</td><td>pedroz_e2edata_dev.default.iris_model@21</td></tr><tr><td>5.8</td><td>2.7</td><td>4.1</td><td>1.0</td><td>1</td><td>1</td><td>2025-08-11 13:12:12</td><td>pedroz_e2edata_dev.default.iris_model@21</td></tr><tr><td>6.2</td><td>2.2</td><td>4.5</td><td>1.5</td><td>1</td><td>1</td><td>2025-08-11 13:12:12</td><td>pedroz_e2edata_dev.default.iris_model@21</td></tr><tr><td>5.6</td><td>2.5</td><td>3.9</td><td>1.1</td><td>1</td><td>1</td><td>2025-08-11 13:12:12</td><td>pedroz_e2edata_dev.default.iris_model@21</td></tr><tr><td>5.9</td><td>3.2</td><td>4.8</td><td>1.8</td><td>1</td><td>1</td><td>2025-08-11 13:12:12</td><td>pedroz_e2edata_dev.default.iris_model@21</td></tr><tr><td>6.1</td><td>2.8</td><td>4.0</td><td>1.3</td><td>1</td><td>1</td><td>2025-08-11 13:12:12</td><td>pedroz_e2edata_dev.default.iris_model@21</td></tr><tr><td>6.3</td><td>2.5</td><td>4.9</td><td>1.5</td><td>1</td><td>1</td><td>2025-08-11 13:12:12</td><td>pedroz_e2edata_dev.default.iris_model@21</td></tr><tr><td>6.1</td><td>2.8</td><td>4.7</td><td>1.2</td><td>1</td><td>1</td><td>2025-08-11 13:12:12</td><td>pedroz_e2edata_dev.default.iris_model@21</td></tr><tr><td>6.4</td><td>2.9</td><td>4.3</td><td>1.3</td><td>1</td><td>1</td><td>2025-08-11 13:12:12</td><td>pedroz_e2edata_dev.default.iris_model@21</td></tr><tr><td>6.6</td><td>3.0</td><td>4.4</td><td>1.4</td><td>1</td><td>1</td><td>2025-08-11 13:12:12</td><td>pedroz_e2edata_dev.default.iris_model@21</td></tr><tr><td>6.8</td><td>2.8</td><td>4.8</td><td>1.4</td><td>1</td><td>1</td><td>2025-08-11 13:12:12</td><td>pedroz_e2edata_dev.default.iris_model@21</td></tr><tr><td>6.7</td><td>3.0</td><td>5.0</td><td>1.7</td><td>2</td><td>1</td><td>2025-08-11 13:12:12</td><td>pedroz_e2edata_dev.default.iris_model@21</td></tr><tr><td>6.0</td><td>2.9</td><td>4.5</td><td>1.5</td><td>1</td><td>1</td><td>2025-08-11 13:12:12</td><td>pedroz_e2edata_dev.default.iris_model@21</td></tr><tr><td>5.7</td><td>2.6</td><td>3.5</td><td>1.0</td><td>1</td><td>1</td><td>2025-08-11 13:12:12</td><td>pedroz_e2edata_dev.default.iris_model@21</td></tr><tr><td>5.5</td><td>2.4</td><td>3.8</td><td>1.1</td><td>1</td><td>1</td><td>2025-08-11 13:12:12</td><td>pedroz_e2edata_dev.default.iris_model@21</td></tr><tr><td>5.5</td><td>2.4</td><td>3.7</td><td>1.0</td><td>1</td><td>1</td><td>2025-08-11 13:12:12</td><td>pedroz_e2edata_dev.default.iris_model@21</td></tr><tr><td>5.8</td><td>2.7</td><td>3.9</td><td>1.2</td><td>1</td><td>1</td><td>2025-08-11 13:12:12</td><td>pedroz_e2edata_dev.default.iris_model@21</td></tr><tr><td>6.0</td><td>2.7</td><td>5.1</td><td>1.6</td><td>1</td><td>1</td><td>2025-08-11 13:12:12</td><td>pedroz_e2edata_dev.default.iris_model@21</td></tr><tr><td>5.4</td><td>3.0</td><td>4.5</td><td>1.5</td><td>1</td><td>1</td><td>2025-08-11 13:12:12</td><td>pedroz_e2edata_dev.default.iris_model@21</td></tr><tr><td>6.0</td><td>3.4</td><td>4.5</td><td>1.6</td><td>1</td><td>1</td><td>2025-08-11 13:12:12</td><td>pedroz_e2edata_dev.default.iris_model@21</td></tr><tr><td>6.7</td><td>3.1</td><td>4.7</td><td>1.5</td><td>1</td><td>1</td><td>2025-08-11 13:12:12</td><td>pedroz_e2edata_dev.default.iris_model@21</td></tr><tr><td>6.3</td><td>2.3</td><td>4.4</td><td>1.3</td><td>1</td><td>1</td><td>2025-08-11 13:12:12</td><td>pedroz_e2edata_dev.default.iris_model@21</td></tr><tr><td>5.6</td><td>3.0</td><td>4.1</td><td>1.3</td><td>1</td><td>1</td><td>2025-08-11 13:12:12</td><td>pedroz_e2edata_dev.default.iris_model@21</td></tr><tr><td>5.5</td><td>2.5</td><td>4.0</td><td>1.3</td><td>1</td><td>1</td><td>2025-08-11 13:12:12</td><td>pedroz_e2edata_dev.default.iris_model@21</td></tr><tr><td>5.5</td><td>2.6</td><td>4.4</td><td>1.2</td><td>1</td><td>1</td><td>2025-08-11 13:12:12</td><td>pedroz_e2edata_dev.default.iris_model@21</td></tr><tr><td>6.1</td><td>3.0</td><td>4.6</td><td>1.4</td><td>1</td><td>1</td><td>2025-08-11 13:12:12</td><td>pedroz_e2edata_dev.default.iris_model@21</td></tr><tr><td>5.8</td><td>2.6</td><td>4.0</td><td>1.2</td><td>1</td><td>1</td><td>2025-08-11 13:12:12</td><td>pedroz_e2edata_dev.default.iris_model@21</td></tr><tr><td>5.0</td><td>2.3</td><td>3.3</td><td>1.0</td><td>1</td><td>1</td><td>2025-08-11 13:12:12</td><td>pedroz_e2edata_dev.default.iris_model@21</td></tr><tr><td>5.6</td><td>2.7</td><td>4.2</td><td>1.3</td><td>1</td><td>1</td><td>2025-08-11 13:12:12</td><td>pedroz_e2edata_dev.default.iris_model@21</td></tr><tr><td>5.7</td><td>3.0</td><td>4.2</td><td>1.2</td><td>1</td><td>1</td><td>2025-08-11 13:12:12</td><td>pedroz_e2edata_dev.default.iris_model@21</td></tr><tr><td>5.7</td><td>2.9</td><td>4.2</td><td>1.3</td><td>1</td><td>1</td><td>2025-08-11 13:12:12</td><td>pedroz_e2edata_dev.default.iris_model@21</td></tr><tr><td>6.2</td><td>2.9</td><td>4.3</td><td>1.3</td><td>1</td><td>1</td><td>2025-08-11 13:12:12</td><td>pedroz_e2edata_dev.default.iris_model@21</td></tr><tr><td>5.1</td><td>2.5</td><td>3.0</td><td>1.1</td><td>1</td><td>1</td><td>2025-08-11 13:12:12</td><td>pedroz_e2edata_dev.default.iris_model@21</td></tr><tr><td>5.7</td><td>2.8</td><td>4.1</td><td>1.3</td><td>1</td><td>1</td><td>2025-08-11 13:12:12</td><td>pedroz_e2edata_dev.default.iris_model@21</td></tr><tr><td>6.3</td><td>3.3</td><td>6.0</td><td>2.5</td><td>2</td><td>2</td><td>2025-08-11 13:12:12</td><td>pedroz_e2edata_dev.default.iris_model@21</td></tr><tr><td>5.8</td><td>2.7</td><td>5.1</td><td>1.9</td><td>2</td><td>2</td><td>2025-08-11 13:12:12</td><td>pedroz_e2edata_dev.default.iris_model@21</td></tr><tr><td>7.1</td><td>3.0</td><td>5.9</td><td>2.1</td><td>2</td><td>2</td><td>2025-08-11 13:12:12</td><td>pedroz_e2edata_dev.default.iris_model@21</td></tr><tr><td>6.3</td><td>2.9</td><td>5.6</td><td>1.8</td><td>2</td><td>2</td><td>2025-08-11 13:12:12</td><td>pedroz_e2edata_dev.default.iris_model@21</td></tr><tr><td>6.5</td><td>3.0</td><td>5.8</td><td>2.2</td><td>2</td><td>2</td><td>2025-08-11 13:12:12</td><td>pedroz_e2edata_dev.default.iris_model@21</td></tr><tr><td>7.6</td><td>3.0</td><td>6.6</td><td>2.1</td><td>2</td><td>2</td><td>2025-08-11 13:12:12</td><td>pedroz_e2edata_dev.default.iris_model@21</td></tr><tr><td>4.9</td><td>2.5</td><td>4.5</td><td>1.7</td><td>2</td><td>2</td><td>2025-08-11 13:12:12</td><td>pedroz_e2edata_dev.default.iris_model@21</td></tr><tr><td>7.3</td><td>2.9</td><td>6.3</td><td>1.8</td><td>2</td><td>2</td><td>2025-08-11 13:12:12</td><td>pedroz_e2edata_dev.default.iris_model@21</td></tr><tr><td>6.7</td><td>2.5</td><td>5.8</td><td>1.8</td><td>2</td><td>2</td><td>2025-08-11 13:12:12</td><td>pedroz_e2edata_dev.default.iris_model@21</td></tr><tr><td>7.2</td><td>3.6</td><td>6.1</td><td>2.5</td><td>2</td><td>2</td><td>2025-08-11 13:12:12</td><td>pedroz_e2edata_dev.default.iris_model@21</td></tr><tr><td>6.5</td><td>3.2</td><td>5.1</td><td>2.0</td><td>2</td><td>2</td><td>2025-08-11 13:12:12</td><td>pedroz_e2edata_dev.default.iris_model@21</td></tr><tr><td>6.4</td><td>2.7</td><td>5.3</td><td>1.9</td><td>2</td><td>2</td><td>2025-08-11 13:12:12</td><td>pedroz_e2edata_dev.default.iris_model@21</td></tr><tr><td>6.8</td><td>3.0</td><td>5.5</td><td>2.1</td><td>2</td><td>2</td><td>2025-08-11 13:12:12</td><td>pedroz_e2edata_dev.default.iris_model@21</td></tr><tr><td>5.7</td><td>2.5</td><td>5.0</td><td>2.0</td><td>2</td><td>2</td><td>2025-08-11 13:12:12</td><td>pedroz_e2edata_dev.default.iris_model@21</td></tr><tr><td>5.8</td><td>2.8</td><td>5.1</td><td>2.4</td><td>2</td><td>2</td><td>2025-08-11 13:12:12</td><td>pedroz_e2edata_dev.default.iris_model@21</td></tr><tr><td>6.4</td><td>3.2</td><td>5.3</td><td>2.3</td><td>2</td><td>2</td><td>2025-08-11 13:12:12</td><td>pedroz_e2edata_dev.default.iris_model@21</td></tr><tr><td>6.5</td><td>3.0</td><td>5.5</td><td>1.8</td><td>2</td><td>2</td><td>2025-08-11 13:12:12</td><td>pedroz_e2edata_dev.default.iris_model@21</td></tr><tr><td>7.7</td><td>3.8</td><td>6.7</td><td>2.2</td><td>2</td><td>2</td><td>2025-08-11 13:12:12</td><td>pedroz_e2edata_dev.default.iris_model@21</td></tr><tr><td>7.7</td><td>2.6</td><td>6.9</td><td>2.3</td><td>2</td><td>2</td><td>2025-08-11 13:12:12</td><td>pedroz_e2edata_dev.default.iris_model@21</td></tr><tr><td>6.0</td><td>2.2</td><td>5.0</td><td>1.5</td><td>1</td><td>2</td><td>2025-08-11 13:12:12</td><td>pedroz_e2edata_dev.default.iris_model@21</td></tr><tr><td>6.9</td><td>3.2</td><td>5.7</td><td>2.3</td><td>2</td><td>2</td><td>2025-08-11 13:12:12</td><td>pedroz_e2edata_dev.default.iris_model@21</td></tr><tr><td>5.6</td><td>2.8</td><td>4.9</td><td>2.0</td><td>2</td><td>2</td><td>2025-08-11 13:12:12</td><td>pedroz_e2edata_dev.default.iris_model@21</td></tr><tr><td>7.7</td><td>2.8</td><td>6.7</td><td>2.0</td><td>2</td><td>2</td><td>2025-08-11 13:12:12</td><td>pedroz_e2edata_dev.default.iris_model@21</td></tr><tr><td>6.3</td><td>2.7</td><td>4.9</td><td>1.8</td><td>2</td><td>2</td><td>2025-08-11 13:12:12</td><td>pedroz_e2edata_dev.default.iris_model@21</td></tr><tr><td>6.7</td><td>3.3</td><td>5.7</td><td>2.1</td><td>2</td><td>2</td><td>2025-08-11 13:12:12</td><td>pedroz_e2edata_dev.default.iris_model@21</td></tr><tr><td>7.2</td><td>3.2</td><td>6.0</td><td>1.8</td><td>2</td><td>2</td><td>2025-08-11 13:12:12</td><td>pedroz_e2edata_dev.default.iris_model@21</td></tr><tr><td>6.2</td><td>2.8</td><td>4.8</td><td>1.8</td><td>2</td><td>2</td><td>2025-08-11 13:12:12</td><td>pedroz_e2edata_dev.default.iris_model@21</td></tr><tr><td>6.1</td><td>3.0</td><td>4.9</td><td>1.8</td><td>2</td><td>2</td><td>2025-08-11 13:12:12</td><td>pedroz_e2edata_dev.default.iris_model@21</td></tr><tr><td>6.4</td><td>2.8</td><td>5.6</td><td>2.1</td><td>2</td><td>2</td><td>2025-08-11 13:12:12</td><td>pedroz_e2edata_dev.default.iris_model@21</td></tr><tr><td>7.2</td><td>3.0</td><td>5.8</td><td>1.6</td><td>2</td><td>2</td><td>2025-08-11 13:12:12</td><td>pedroz_e2edata_dev.default.iris_model@21</td></tr><tr><td>7.4</td><td>2.8</td><td>6.1</td><td>1.9</td><td>2</td><td>2</td><td>2025-08-11 13:12:12</td><td>pedroz_e2edata_dev.default.iris_model@21</td></tr><tr><td>7.9</td><td>3.8</td><td>6.4</td><td>2.0</td><td>2</td><td>2</td><td>2025-08-11 13:12:12</td><td>pedroz_e2edata_dev.default.iris_model@21</td></tr><tr><td>6.4</td><td>2.8</td><td>5.6</td><td>2.2</td><td>2</td><td>2</td><td>2025-08-11 13:12:12</td><td>pedroz_e2edata_dev.default.iris_model@21</td></tr><tr><td>6.3</td><td>2.8</td><td>5.1</td><td>1.5</td><td>2</td><td>2</td><td>2025-08-11 13:12:12</td><td>pedroz_e2edata_dev.default.iris_model@21</td></tr><tr><td>6.1</td><td>2.6</td><td>5.6</td><td>1.4</td><td>2</td><td>2</td><td>2025-08-11 13:12:12</td><td>pedroz_e2edata_dev.default.iris_model@21</td></tr><tr><td>7.7</td><td>3.0</td><td>6.1</td><td>2.3</td><td>2</td><td>2</td><td>2025-08-11 13:12:12</td><td>pedroz_e2edata_dev.default.iris_model@21</td></tr><tr><td>6.3</td><td>3.4</td><td>5.6</td><td>2.4</td><td>2</td><td>2</td><td>2025-08-11 13:12:12</td><td>pedroz_e2edata_dev.default.iris_model@21</td></tr><tr><td>6.4</td><td>3.1</td><td>5.5</td><td>1.8</td><td>2</td><td>2</td><td>2025-08-11 13:12:12</td><td>pedroz_e2edata_dev.default.iris_model@21</td></tr><tr><td>6.0</td><td>3.0</td><td>4.8</td><td>1.8</td><td>2</td><td>2</td><td>2025-08-11 13:12:12</td><td>pedroz_e2edata_dev.default.iris_model@21</td></tr><tr><td>6.9</td><td>3.1</td><td>5.4</td><td>2.1</td><td>2</td><td>2</td><td>2025-08-11 13:12:12</td><td>pedroz_e2edata_dev.default.iris_model@21</td></tr><tr><td>6.7</td><td>3.1</td><td>5.6</td><td>2.4</td><td>2</td><td>2</td><td>2025-08-11 13:12:12</td><td>pedroz_e2edata_dev.default.iris_model@21</td></tr><tr><td>6.9</td><td>3.1</td><td>5.1</td><td>2.3</td><td>2</td><td>2</td><td>2025-08-11 13:12:12</td><td>pedroz_e2edata_dev.default.iris_model@21</td></tr><tr><td>5.8</td><td>2.7</td><td>5.1</td><td>1.9</td><td>2</td><td>2</td><td>2025-08-11 13:12:12</td><td>pedroz_e2edata_dev.default.iris_model@21</td></tr><tr><td>6.8</td><td>3.2</td><td>5.9</td><td>2.3</td><td>2</td><td>2</td><td>2025-08-11 13:12:12</td><td>pedroz_e2edata_dev.default.iris_model@21</td></tr><tr><td>6.7</td><td>3.3</td><td>5.7</td><td>2.5</td><td>2</td><td>2</td><td>2025-08-11 13:12:12</td><td>pedroz_e2edata_dev.default.iris_model@21</td></tr><tr><td>6.7</td><td>3.0</td><td>5.2</td><td>2.3</td><td>2</td><td>2</td><td>2025-08-11 13:12:12</td><td>pedroz_e2edata_dev.default.iris_model@21</td></tr><tr><td>6.3</td><td>2.5</td><td>5.0</td><td>1.9</td><td>2</td><td>2</td><td>2025-08-11 13:12:12</td><td>pedroz_e2edata_dev.default.iris_model@21</td></tr><tr><td>6.5</td><td>3.0</td><td>5.2</td><td>2.0</td><td>2</td><td>2</td><td>2025-08-11 13:12:12</td><td>pedroz_e2edata_dev.default.iris_model@21</td></tr><tr><td>6.2</td><td>3.4</td><td>5.4</td><td>2.3</td><td>2</td><td>2</td><td>2025-08-11 13:12:12</td><td>pedroz_e2edata_dev.default.iris_model@21</td></tr><tr><td>5.9</td><td>3.0</td><td>5.1</td><td>1.8</td><td>2</td><td>2</td><td>2025-08-11 13:12:12</td><td>pedroz_e2edata_dev.default.iris_model@21</td></tr></tbody></table></div>"
      ]
     },
     "metadata": {
      "application/vnd.databricks.v1+output": {
       "addedWidgets": {},
       "aggData": [],
       "aggError": "",
       "aggOverflow": false,
       "aggSchema": [],
       "aggSeriesLimitReached": false,
       "aggType": "",
       "arguments": {},
       "columnCustomDisplayInfos": {},
       "data": [
        [
         5.1,
         3.5,
         1.4,
         0.2,
         0,
         0,
         "2025-08-11 13:12:12",
         "pedroz_e2edata_dev.default.iris_model@21"
        ],
        [
         4.9,
         3,
         1.4,
         0.2,
         0,
         0,
         "2025-08-11 13:12:12",
         "pedroz_e2edata_dev.default.iris_model@21"
        ],
        [
         4.7,
         3.2,
         1.3,
         0.2,
         0,
         0,
         "2025-08-11 13:12:12",
         "pedroz_e2edata_dev.default.iris_model@21"
        ],
        [
         4.6,
         3.1,
         1.5,
         0.2,
         0,
         0,
         "2025-08-11 13:12:12",
         "pedroz_e2edata_dev.default.iris_model@21"
        ],
        [
         5,
         3.6,
         1.4,
         0.2,
         0,
         0,
         "2025-08-11 13:12:12",
         "pedroz_e2edata_dev.default.iris_model@21"
        ],
        [
         5.4,
         3.9,
         1.7,
         0.4,
         0,
         0,
         "2025-08-11 13:12:12",
         "pedroz_e2edata_dev.default.iris_model@21"
        ],
        [
         4.6,
         3.4,
         1.4,
         0.3,
         0,
         0,
         "2025-08-11 13:12:12",
         "pedroz_e2edata_dev.default.iris_model@21"
        ],
        [
         5,
         3.4,
         1.5,
         0.2,
         0,
         0,
         "2025-08-11 13:12:12",
         "pedroz_e2edata_dev.default.iris_model@21"
        ],
        [
         4.4,
         2.9,
         1.4,
         0.2,
         0,
         0,
         "2025-08-11 13:12:12",
         "pedroz_e2edata_dev.default.iris_model@21"
        ],
        [
         4.9,
         3.1,
         1.5,
         0.1,
         0,
         0,
         "2025-08-11 13:12:12",
         "pedroz_e2edata_dev.default.iris_model@21"
        ],
        [
         5.4,
         3.7,
         1.5,
         0.2,
         0,
         0,
         "2025-08-11 13:12:12",
         "pedroz_e2edata_dev.default.iris_model@21"
        ],
        [
         4.8,
         3.4,
         1.6,
         0.2,
         0,
         0,
         "2025-08-11 13:12:12",
         "pedroz_e2edata_dev.default.iris_model@21"
        ],
        [
         4.8,
         3,
         1.4,
         0.1,
         0,
         0,
         "2025-08-11 13:12:12",
         "pedroz_e2edata_dev.default.iris_model@21"
        ],
        [
         4.3,
         3,
         1.1,
         0.1,
         0,
         0,
         "2025-08-11 13:12:12",
         "pedroz_e2edata_dev.default.iris_model@21"
        ],
        [
         5.8,
         4,
         1.2,
         0.2,
         0,
         0,
         "2025-08-11 13:12:12",
         "pedroz_e2edata_dev.default.iris_model@21"
        ],
        [
         5.7,
         4.4,
         1.5,
         0.4,
         0,
         0,
         "2025-08-11 13:12:12",
         "pedroz_e2edata_dev.default.iris_model@21"
        ],
        [
         5.4,
         3.9,
         1.3,
         0.4,
         0,
         0,
         "2025-08-11 13:12:12",
         "pedroz_e2edata_dev.default.iris_model@21"
        ],
        [
         5.1,
         3.5,
         1.4,
         0.3,
         0,
         0,
         "2025-08-11 13:12:12",
         "pedroz_e2edata_dev.default.iris_model@21"
        ],
        [
         5.7,
         3.8,
         1.7,
         0.3,
         0,
         0,
         "2025-08-11 13:12:12",
         "pedroz_e2edata_dev.default.iris_model@21"
        ],
        [
         5.1,
         3.8,
         1.5,
         0.3,
         0,
         0,
         "2025-08-11 13:12:12",
         "pedroz_e2edata_dev.default.iris_model@21"
        ],
        [
         5.4,
         3.4,
         1.7,
         0.2,
         0,
         0,
         "2025-08-11 13:12:12",
         "pedroz_e2edata_dev.default.iris_model@21"
        ],
        [
         5.1,
         3.7,
         1.5,
         0.4,
         0,
         0,
         "2025-08-11 13:12:12",
         "pedroz_e2edata_dev.default.iris_model@21"
        ],
        [
         4.6,
         3.6,
         1,
         0.2,
         0,
         0,
         "2025-08-11 13:12:12",
         "pedroz_e2edata_dev.default.iris_model@21"
        ],
        [
         5.1,
         3.3,
         1.7,
         0.5,
         0,
         0,
         "2025-08-11 13:12:12",
         "pedroz_e2edata_dev.default.iris_model@21"
        ],
        [
         4.8,
         3.4,
         1.9,
         0.2,
         0,
         0,
         "2025-08-11 13:12:12",
         "pedroz_e2edata_dev.default.iris_model@21"
        ],
        [
         5,
         3,
         1.6,
         0.2,
         0,
         0,
         "2025-08-11 13:12:12",
         "pedroz_e2edata_dev.default.iris_model@21"
        ],
        [
         5,
         3.4,
         1.6,
         0.4,
         0,
         0,
         "2025-08-11 13:12:12",
         "pedroz_e2edata_dev.default.iris_model@21"
        ],
        [
         5.2,
         3.5,
         1.5,
         0.2,
         0,
         0,
         "2025-08-11 13:12:12",
         "pedroz_e2edata_dev.default.iris_model@21"
        ],
        [
         5.2,
         3.4,
         1.4,
         0.2,
         0,
         0,
         "2025-08-11 13:12:12",
         "pedroz_e2edata_dev.default.iris_model@21"
        ],
        [
         4.7,
         3.2,
         1.6,
         0.2,
         0,
         0,
         "2025-08-11 13:12:12",
         "pedroz_e2edata_dev.default.iris_model@21"
        ],
        [
         4.8,
         3.1,
         1.6,
         0.2,
         0,
         0,
         "2025-08-11 13:12:12",
         "pedroz_e2edata_dev.default.iris_model@21"
        ],
        [
         5.4,
         3.4,
         1.5,
         0.4,
         0,
         0,
         "2025-08-11 13:12:12",
         "pedroz_e2edata_dev.default.iris_model@21"
        ],
        [
         5.2,
         4.1,
         1.5,
         0.1,
         0,
         0,
         "2025-08-11 13:12:12",
         "pedroz_e2edata_dev.default.iris_model@21"
        ],
        [
         5.5,
         4.2,
         1.4,
         0.2,
         0,
         0,
         "2025-08-11 13:12:12",
         "pedroz_e2edata_dev.default.iris_model@21"
        ],
        [
         4.9,
         3.1,
         1.5,
         0.2,
         0,
         0,
         "2025-08-11 13:12:12",
         "pedroz_e2edata_dev.default.iris_model@21"
        ],
        [
         5,
         3.2,
         1.2,
         0.2,
         0,
         0,
         "2025-08-11 13:12:12",
         "pedroz_e2edata_dev.default.iris_model@21"
        ],
        [
         5.5,
         3.5,
         1.3,
         0.2,
         0,
         0,
         "2025-08-11 13:12:12",
         "pedroz_e2edata_dev.default.iris_model@21"
        ],
        [
         4.9,
         3.6,
         1.4,
         0.1,
         0,
         0,
         "2025-08-11 13:12:12",
         "pedroz_e2edata_dev.default.iris_model@21"
        ],
        [
         4.4,
         3,
         1.3,
         0.2,
         0,
         0,
         "2025-08-11 13:12:12",
         "pedroz_e2edata_dev.default.iris_model@21"
        ],
        [
         5.1,
         3.4,
         1.5,
         0.2,
         0,
         0,
         "2025-08-11 13:12:12",
         "pedroz_e2edata_dev.default.iris_model@21"
        ],
        [
         5,
         3.5,
         1.3,
         0.3,
         0,
         0,
         "2025-08-11 13:12:12",
         "pedroz_e2edata_dev.default.iris_model@21"
        ],
        [
         4.5,
         2.3,
         1.3,
         0.3,
         0,
         0,
         "2025-08-11 13:12:12",
         "pedroz_e2edata_dev.default.iris_model@21"
        ],
        [
         4.4,
         3.2,
         1.3,
         0.2,
         0,
         0,
         "2025-08-11 13:12:12",
         "pedroz_e2edata_dev.default.iris_model@21"
        ],
        [
         5,
         3.5,
         1.6,
         0.6,
         0,
         0,
         "2025-08-11 13:12:12",
         "pedroz_e2edata_dev.default.iris_model@21"
        ],
        [
         5.1,
         3.8,
         1.9,
         0.4,
         0,
         0,
         "2025-08-11 13:12:12",
         "pedroz_e2edata_dev.default.iris_model@21"
        ],
        [
         4.8,
         3,
         1.4,
         0.3,
         0,
         0,
         "2025-08-11 13:12:12",
         "pedroz_e2edata_dev.default.iris_model@21"
        ],
        [
         5.1,
         3.8,
         1.6,
         0.2,
         0,
         0,
         "2025-08-11 13:12:12",
         "pedroz_e2edata_dev.default.iris_model@21"
        ],
        [
         4.6,
         3.2,
         1.4,
         0.2,
         0,
         0,
         "2025-08-11 13:12:12",
         "pedroz_e2edata_dev.default.iris_model@21"
        ],
        [
         5.3,
         3.7,
         1.5,
         0.2,
         0,
         0,
         "2025-08-11 13:12:12",
         "pedroz_e2edata_dev.default.iris_model@21"
        ],
        [
         5,
         3.3,
         1.4,
         0.2,
         0,
         0,
         "2025-08-11 13:12:12",
         "pedroz_e2edata_dev.default.iris_model@21"
        ],
        [
         7,
         3.2,
         4.7,
         1.4,
         1,
         1,
         "2025-08-11 13:12:12",
         "pedroz_e2edata_dev.default.iris_model@21"
        ],
        [
         6.4,
         3.2,
         4.5,
         1.5,
         1,
         1,
         "2025-08-11 13:12:12",
         "pedroz_e2edata_dev.default.iris_model@21"
        ],
        [
         6.9,
         3.1,
         4.9,
         1.5,
         1,
         1,
         "2025-08-11 13:12:12",
         "pedroz_e2edata_dev.default.iris_model@21"
        ],
        [
         5.5,
         2.3,
         4,
         1.3,
         1,
         1,
         "2025-08-11 13:12:12",
         "pedroz_e2edata_dev.default.iris_model@21"
        ],
        [
         6.5,
         2.8,
         4.6,
         1.5,
         1,
         1,
         "2025-08-11 13:12:12",
         "pedroz_e2edata_dev.default.iris_model@21"
        ],
        [
         5.7,
         2.8,
         4.5,
         1.3,
         1,
         1,
         "2025-08-11 13:12:12",
         "pedroz_e2edata_dev.default.iris_model@21"
        ],
        [
         6.3,
         3.3,
         4.7,
         1.6,
         1,
         1,
         "2025-08-11 13:12:12",
         "pedroz_e2edata_dev.default.iris_model@21"
        ],
        [
         4.9,
         2.4,
         3.3,
         1,
         1,
         1,
         "2025-08-11 13:12:12",
         "pedroz_e2edata_dev.default.iris_model@21"
        ],
        [
         6.6,
         2.9,
         4.6,
         1.3,
         1,
         1,
         "2025-08-11 13:12:12",
         "pedroz_e2edata_dev.default.iris_model@21"
        ],
        [
         5.2,
         2.7,
         3.9,
         1.4,
         1,
         1,
         "2025-08-11 13:12:12",
         "pedroz_e2edata_dev.default.iris_model@21"
        ],
        [
         5,
         2,
         3.5,
         1,
         1,
         1,
         "2025-08-11 13:12:12",
         "pedroz_e2edata_dev.default.iris_model@21"
        ],
        [
         5.9,
         3,
         4.2,
         1.5,
         1,
         1,
         "2025-08-11 13:12:12",
         "pedroz_e2edata_dev.default.iris_model@21"
        ],
        [
         6,
         2.2,
         4,
         1,
         1,
         1,
         "2025-08-11 13:12:12",
         "pedroz_e2edata_dev.default.iris_model@21"
        ],
        [
         6.1,
         2.9,
         4.7,
         1.4,
         1,
         1,
         "2025-08-11 13:12:12",
         "pedroz_e2edata_dev.default.iris_model@21"
        ],
        [
         5.6,
         2.9,
         3.6,
         1.3,
         1,
         1,
         "2025-08-11 13:12:12",
         "pedroz_e2edata_dev.default.iris_model@21"
        ],
        [
         6.7,
         3.1,
         4.4,
         1.4,
         1,
         1,
         "2025-08-11 13:12:12",
         "pedroz_e2edata_dev.default.iris_model@21"
        ],
        [
         5.6,
         3,
         4.5,
         1.5,
         1,
         1,
         "2025-08-11 13:12:12",
         "pedroz_e2edata_dev.default.iris_model@21"
        ],
        [
         5.8,
         2.7,
         4.1,
         1,
         1,
         1,
         "2025-08-11 13:12:12",
         "pedroz_e2edata_dev.default.iris_model@21"
        ],
        [
         6.2,
         2.2,
         4.5,
         1.5,
         1,
         1,
         "2025-08-11 13:12:12",
         "pedroz_e2edata_dev.default.iris_model@21"
        ],
        [
         5.6,
         2.5,
         3.9,
         1.1,
         1,
         1,
         "2025-08-11 13:12:12",
         "pedroz_e2edata_dev.default.iris_model@21"
        ],
        [
         5.9,
         3.2,
         4.8,
         1.8,
         1,
         1,
         "2025-08-11 13:12:12",
         "pedroz_e2edata_dev.default.iris_model@21"
        ],
        [
         6.1,
         2.8,
         4,
         1.3,
         1,
         1,
         "2025-08-11 13:12:12",
         "pedroz_e2edata_dev.default.iris_model@21"
        ],
        [
         6.3,
         2.5,
         4.9,
         1.5,
         1,
         1,
         "2025-08-11 13:12:12",
         "pedroz_e2edata_dev.default.iris_model@21"
        ],
        [
         6.1,
         2.8,
         4.7,
         1.2,
         1,
         1,
         "2025-08-11 13:12:12",
         "pedroz_e2edata_dev.default.iris_model@21"
        ],
        [
         6.4,
         2.9,
         4.3,
         1.3,
         1,
         1,
         "2025-08-11 13:12:12",
         "pedroz_e2edata_dev.default.iris_model@21"
        ],
        [
         6.6,
         3,
         4.4,
         1.4,
         1,
         1,
         "2025-08-11 13:12:12",
         "pedroz_e2edata_dev.default.iris_model@21"
        ],
        [
         6.8,
         2.8,
         4.8,
         1.4,
         1,
         1,
         "2025-08-11 13:12:12",
         "pedroz_e2edata_dev.default.iris_model@21"
        ],
        [
         6.7,
         3,
         5,
         1.7,
         2,
         1,
         "2025-08-11 13:12:12",
         "pedroz_e2edata_dev.default.iris_model@21"
        ],
        [
         6,
         2.9,
         4.5,
         1.5,
         1,
         1,
         "2025-08-11 13:12:12",
         "pedroz_e2edata_dev.default.iris_model@21"
        ],
        [
         5.7,
         2.6,
         3.5,
         1,
         1,
         1,
         "2025-08-11 13:12:12",
         "pedroz_e2edata_dev.default.iris_model@21"
        ],
        [
         5.5,
         2.4,
         3.8,
         1.1,
         1,
         1,
         "2025-08-11 13:12:12",
         "pedroz_e2edata_dev.default.iris_model@21"
        ],
        [
         5.5,
         2.4,
         3.7,
         1,
         1,
         1,
         "2025-08-11 13:12:12",
         "pedroz_e2edata_dev.default.iris_model@21"
        ],
        [
         5.8,
         2.7,
         3.9,
         1.2,
         1,
         1,
         "2025-08-11 13:12:12",
         "pedroz_e2edata_dev.default.iris_model@21"
        ],
        [
         6,
         2.7,
         5.1,
         1.6,
         1,
         1,
         "2025-08-11 13:12:12",
         "pedroz_e2edata_dev.default.iris_model@21"
        ],
        [
         5.4,
         3,
         4.5,
         1.5,
         1,
         1,
         "2025-08-11 13:12:12",
         "pedroz_e2edata_dev.default.iris_model@21"
        ],
        [
         6,
         3.4,
         4.5,
         1.6,
         1,
         1,
         "2025-08-11 13:12:12",
         "pedroz_e2edata_dev.default.iris_model@21"
        ],
        [
         6.7,
         3.1,
         4.7,
         1.5,
         1,
         1,
         "2025-08-11 13:12:12",
         "pedroz_e2edata_dev.default.iris_model@21"
        ],
        [
         6.3,
         2.3,
         4.4,
         1.3,
         1,
         1,
         "2025-08-11 13:12:12",
         "pedroz_e2edata_dev.default.iris_model@21"
        ],
        [
         5.6,
         3,
         4.1,
         1.3,
         1,
         1,
         "2025-08-11 13:12:12",
         "pedroz_e2edata_dev.default.iris_model@21"
        ],
        [
         5.5,
         2.5,
         4,
         1.3,
         1,
         1,
         "2025-08-11 13:12:12",
         "pedroz_e2edata_dev.default.iris_model@21"
        ],
        [
         5.5,
         2.6,
         4.4,
         1.2,
         1,
         1,
         "2025-08-11 13:12:12",
         "pedroz_e2edata_dev.default.iris_model@21"
        ],
        [
         6.1,
         3,
         4.6,
         1.4,
         1,
         1,
         "2025-08-11 13:12:12",
         "pedroz_e2edata_dev.default.iris_model@21"
        ],
        [
         5.8,
         2.6,
         4,
         1.2,
         1,
         1,
         "2025-08-11 13:12:12",
         "pedroz_e2edata_dev.default.iris_model@21"
        ],
        [
         5,
         2.3,
         3.3,
         1,
         1,
         1,
         "2025-08-11 13:12:12",
         "pedroz_e2edata_dev.default.iris_model@21"
        ],
        [
         5.6,
         2.7,
         4.2,
         1.3,
         1,
         1,
         "2025-08-11 13:12:12",
         "pedroz_e2edata_dev.default.iris_model@21"
        ],
        [
         5.7,
         3,
         4.2,
         1.2,
         1,
         1,
         "2025-08-11 13:12:12",
         "pedroz_e2edata_dev.default.iris_model@21"
        ],
        [
         5.7,
         2.9,
         4.2,
         1.3,
         1,
         1,
         "2025-08-11 13:12:12",
         "pedroz_e2edata_dev.default.iris_model@21"
        ],
        [
         6.2,
         2.9,
         4.3,
         1.3,
         1,
         1,
         "2025-08-11 13:12:12",
         "pedroz_e2edata_dev.default.iris_model@21"
        ],
        [
         5.1,
         2.5,
         3,
         1.1,
         1,
         1,
         "2025-08-11 13:12:12",
         "pedroz_e2edata_dev.default.iris_model@21"
        ],
        [
         5.7,
         2.8,
         4.1,
         1.3,
         1,
         1,
         "2025-08-11 13:12:12",
         "pedroz_e2edata_dev.default.iris_model@21"
        ],
        [
         6.3,
         3.3,
         6,
         2.5,
         2,
         2,
         "2025-08-11 13:12:12",
         "pedroz_e2edata_dev.default.iris_model@21"
        ],
        [
         5.8,
         2.7,
         5.1,
         1.9,
         2,
         2,
         "2025-08-11 13:12:12",
         "pedroz_e2edata_dev.default.iris_model@21"
        ],
        [
         7.1,
         3,
         5.9,
         2.1,
         2,
         2,
         "2025-08-11 13:12:12",
         "pedroz_e2edata_dev.default.iris_model@21"
        ],
        [
         6.3,
         2.9,
         5.6,
         1.8,
         2,
         2,
         "2025-08-11 13:12:12",
         "pedroz_e2edata_dev.default.iris_model@21"
        ],
        [
         6.5,
         3,
         5.8,
         2.2,
         2,
         2,
         "2025-08-11 13:12:12",
         "pedroz_e2edata_dev.default.iris_model@21"
        ],
        [
         7.6,
         3,
         6.6,
         2.1,
         2,
         2,
         "2025-08-11 13:12:12",
         "pedroz_e2edata_dev.default.iris_model@21"
        ],
        [
         4.9,
         2.5,
         4.5,
         1.7,
         2,
         2,
         "2025-08-11 13:12:12",
         "pedroz_e2edata_dev.default.iris_model@21"
        ],
        [
         7.3,
         2.9,
         6.3,
         1.8,
         2,
         2,
         "2025-08-11 13:12:12",
         "pedroz_e2edata_dev.default.iris_model@21"
        ],
        [
         6.7,
         2.5,
         5.8,
         1.8,
         2,
         2,
         "2025-08-11 13:12:12",
         "pedroz_e2edata_dev.default.iris_model@21"
        ],
        [
         7.2,
         3.6,
         6.1,
         2.5,
         2,
         2,
         "2025-08-11 13:12:12",
         "pedroz_e2edata_dev.default.iris_model@21"
        ],
        [
         6.5,
         3.2,
         5.1,
         2,
         2,
         2,
         "2025-08-11 13:12:12",
         "pedroz_e2edata_dev.default.iris_model@21"
        ],
        [
         6.4,
         2.7,
         5.3,
         1.9,
         2,
         2,
         "2025-08-11 13:12:12",
         "pedroz_e2edata_dev.default.iris_model@21"
        ],
        [
         6.8,
         3,
         5.5,
         2.1,
         2,
         2,
         "2025-08-11 13:12:12",
         "pedroz_e2edata_dev.default.iris_model@21"
        ],
        [
         5.7,
         2.5,
         5,
         2,
         2,
         2,
         "2025-08-11 13:12:12",
         "pedroz_e2edata_dev.default.iris_model@21"
        ],
        [
         5.8,
         2.8,
         5.1,
         2.4,
         2,
         2,
         "2025-08-11 13:12:12",
         "pedroz_e2edata_dev.default.iris_model@21"
        ],
        [
         6.4,
         3.2,
         5.3,
         2.3,
         2,
         2,
         "2025-08-11 13:12:12",
         "pedroz_e2edata_dev.default.iris_model@21"
        ],
        [
         6.5,
         3,
         5.5,
         1.8,
         2,
         2,
         "2025-08-11 13:12:12",
         "pedroz_e2edata_dev.default.iris_model@21"
        ],
        [
         7.7,
         3.8,
         6.7,
         2.2,
         2,
         2,
         "2025-08-11 13:12:12",
         "pedroz_e2edata_dev.default.iris_model@21"
        ],
        [
         7.7,
         2.6,
         6.9,
         2.3,
         2,
         2,
         "2025-08-11 13:12:12",
         "pedroz_e2edata_dev.default.iris_model@21"
        ],
        [
         6,
         2.2,
         5,
         1.5,
         1,
         2,
         "2025-08-11 13:12:12",
         "pedroz_e2edata_dev.default.iris_model@21"
        ],
        [
         6.9,
         3.2,
         5.7,
         2.3,
         2,
         2,
         "2025-08-11 13:12:12",
         "pedroz_e2edata_dev.default.iris_model@21"
        ],
        [
         5.6,
         2.8,
         4.9,
         2,
         2,
         2,
         "2025-08-11 13:12:12",
         "pedroz_e2edata_dev.default.iris_model@21"
        ],
        [
         7.7,
         2.8,
         6.7,
         2,
         2,
         2,
         "2025-08-11 13:12:12",
         "pedroz_e2edata_dev.default.iris_model@21"
        ],
        [
         6.3,
         2.7,
         4.9,
         1.8,
         2,
         2,
         "2025-08-11 13:12:12",
         "pedroz_e2edata_dev.default.iris_model@21"
        ],
        [
         6.7,
         3.3,
         5.7,
         2.1,
         2,
         2,
         "2025-08-11 13:12:12",
         "pedroz_e2edata_dev.default.iris_model@21"
        ],
        [
         7.2,
         3.2,
         6,
         1.8,
         2,
         2,
         "2025-08-11 13:12:12",
         "pedroz_e2edata_dev.default.iris_model@21"
        ],
        [
         6.2,
         2.8,
         4.8,
         1.8,
         2,
         2,
         "2025-08-11 13:12:12",
         "pedroz_e2edata_dev.default.iris_model@21"
        ],
        [
         6.1,
         3,
         4.9,
         1.8,
         2,
         2,
         "2025-08-11 13:12:12",
         "pedroz_e2edata_dev.default.iris_model@21"
        ],
        [
         6.4,
         2.8,
         5.6,
         2.1,
         2,
         2,
         "2025-08-11 13:12:12",
         "pedroz_e2edata_dev.default.iris_model@21"
        ],
        [
         7.2,
         3,
         5.8,
         1.6,
         2,
         2,
         "2025-08-11 13:12:12",
         "pedroz_e2edata_dev.default.iris_model@21"
        ],
        [
         7.4,
         2.8,
         6.1,
         1.9,
         2,
         2,
         "2025-08-11 13:12:12",
         "pedroz_e2edata_dev.default.iris_model@21"
        ],
        [
         7.9,
         3.8,
         6.4,
         2,
         2,
         2,
         "2025-08-11 13:12:12",
         "pedroz_e2edata_dev.default.iris_model@21"
        ],
        [
         6.4,
         2.8,
         5.6,
         2.2,
         2,
         2,
         "2025-08-11 13:12:12",
         "pedroz_e2edata_dev.default.iris_model@21"
        ],
        [
         6.3,
         2.8,
         5.1,
         1.5,
         2,
         2,
         "2025-08-11 13:12:12",
         "pedroz_e2edata_dev.default.iris_model@21"
        ],
        [
         6.1,
         2.6,
         5.6,
         1.4,
         2,
         2,
         "2025-08-11 13:12:12",
         "pedroz_e2edata_dev.default.iris_model@21"
        ],
        [
         7.7,
         3,
         6.1,
         2.3,
         2,
         2,
         "2025-08-11 13:12:12",
         "pedroz_e2edata_dev.default.iris_model@21"
        ],
        [
         6.3,
         3.4,
         5.6,
         2.4,
         2,
         2,
         "2025-08-11 13:12:12",
         "pedroz_e2edata_dev.default.iris_model@21"
        ],
        [
         6.4,
         3.1,
         5.5,
         1.8,
         2,
         2,
         "2025-08-11 13:12:12",
         "pedroz_e2edata_dev.default.iris_model@21"
        ],
        [
         6,
         3,
         4.8,
         1.8,
         2,
         2,
         "2025-08-11 13:12:12",
         "pedroz_e2edata_dev.default.iris_model@21"
        ],
        [
         6.9,
         3.1,
         5.4,
         2.1,
         2,
         2,
         "2025-08-11 13:12:12",
         "pedroz_e2edata_dev.default.iris_model@21"
        ],
        [
         6.7,
         3.1,
         5.6,
         2.4,
         2,
         2,
         "2025-08-11 13:12:12",
         "pedroz_e2edata_dev.default.iris_model@21"
        ],
        [
         6.9,
         3.1,
         5.1,
         2.3,
         2,
         2,
         "2025-08-11 13:12:12",
         "pedroz_e2edata_dev.default.iris_model@21"
        ],
        [
         5.8,
         2.7,
         5.1,
         1.9,
         2,
         2,
         "2025-08-11 13:12:12",
         "pedroz_e2edata_dev.default.iris_model@21"
        ],
        [
         6.8,
         3.2,
         5.9,
         2.3,
         2,
         2,
         "2025-08-11 13:12:12",
         "pedroz_e2edata_dev.default.iris_model@21"
        ],
        [
         6.7,
         3.3,
         5.7,
         2.5,
         2,
         2,
         "2025-08-11 13:12:12",
         "pedroz_e2edata_dev.default.iris_model@21"
        ],
        [
         6.7,
         3,
         5.2,
         2.3,
         2,
         2,
         "2025-08-11 13:12:12",
         "pedroz_e2edata_dev.default.iris_model@21"
        ],
        [
         6.3,
         2.5,
         5,
         1.9,
         2,
         2,
         "2025-08-11 13:12:12",
         "pedroz_e2edata_dev.default.iris_model@21"
        ],
        [
         6.5,
         3,
         5.2,
         2,
         2,
         2,
         "2025-08-11 13:12:12",
         "pedroz_e2edata_dev.default.iris_model@21"
        ],
        [
         6.2,
         3.4,
         5.4,
         2.3,
         2,
         2,
         "2025-08-11 13:12:12",
         "pedroz_e2edata_dev.default.iris_model@21"
        ],
        [
         5.9,
         3,
         5.1,
         1.8,
         2,
         2,
         "2025-08-11 13:12:12",
         "pedroz_e2edata_dev.default.iris_model@21"
        ]
       ],
       "datasetInfos": [],
       "dbfsResultPath": null,
       "isJsonSchema": true,
       "metadata": {},
       "overflow": false,
       "plotOptions": {
        "customPlotOptions": {},
        "displayType": "table",
        "pivotAggregation": null,
        "pivotColumns": null,
        "xColumns": null,
        "yColumns": null
       },
       "removedWidgets": [],
       "schema": [
        {
         "metadata": "{}",
         "name": "sepal_length_cm",
         "type": "\"double\""
        },
        {
         "metadata": "{}",
         "name": "sepal_width_cm",
         "type": "\"double\""
        },
        {
         "metadata": "{}",
         "name": "petal_length_cm",
         "type": "\"double\""
        },
        {
         "metadata": "{}",
         "name": "petal_width_cm",
         "type": "\"double\""
        },
        {
         "metadata": "{}",
         "name": "prediction",
         "type": "\"long\""
        },
        {
         "metadata": "{}",
         "name": "actual_label",
         "type": "\"long\""
        },
        {
         "metadata": "{}",
         "name": "prediction_timestamp",
         "type": "\"string\""
        },
        {
         "metadata": "{}",
         "name": "model_id_col",
         "type": "\"string\""
        }
       ],
       "type": "table"
      }
     },
     "output_type": "display_data"
    }
   ],
   "source": [
    "mlflow_client = mlflow.tracking.MlflowClient()\n",
    "model_version = mlflow_client.get_model_version_by_alias(model_name, \"champion\").version\n",
    "\n",
    "df_samples['prediction_timestamp'] = datetime.now().strftime('%Y-%m-%d %H:%M:%S')\n",
    "df_samples['model_id_col'] = model_name + '@' + model_version\n",
    "\n",
    "display(df_samples)"
   ]
  },
  {
   "cell_type": "code",
   "execution_count": 0,
   "metadata": {
    "application/vnd.databricks.v1+cell": {
     "cellMetadata": {
      "byteLimit": 2048000,
      "rowLimit": 10000
     },
     "inputWidgets": {},
     "nuid": "87940370-a537-4860-bcc3-698374a09938",
     "showTitle": false,
     "tableResultSettingsMap": {},
     "title": ""
    }
   },
   "outputs": [],
   "source": [
    "df_spark = spark.createDataFrame(df_samples)"
   ]
  },
  {
   "cell_type": "code",
   "execution_count": 0,
   "metadata": {
    "application/vnd.databricks.v1+cell": {
     "cellMetadata": {
      "byteLimit": 2048000,
      "rowLimit": 10000
     },
     "inputWidgets": {},
     "nuid": "3bc4d933-5319-4adc-93d6-61c177070df0",
     "showTitle": false,
     "tableResultSettingsMap": {},
     "title": ""
    }
   },
   "outputs": [
    {
     "data": {
      "text/html": [
       "<style scoped>\n",
       "  .table-result-container {\n",
       "    max-height: 300px;\n",
       "    overflow: auto;\n",
       "  }\n",
       "  table, th, td {\n",
       "    border: 1px solid black;\n",
       "    border-collapse: collapse;\n",
       "  }\n",
       "  th, td {\n",
       "    padding: 5px;\n",
       "  }\n",
       "  th {\n",
       "    text-align: left;\n",
       "  }\n",
       "</style><div class='table-result-container'><table class='table-result'><thead style='background-color: white'><tr><th>sepal_length_cm</th><th>sepal_width_cm</th><th>petal_length_cm</th><th>petal_width_cm</th><th>species</th><th>id</th></tr></thead><tbody><tr><td>5.1</td><td>3.5</td><td>1.4</td><td>0.2</td><td>0</td><td>1</td></tr><tr><td>4.9</td><td>3.0</td><td>1.4</td><td>0.2</td><td>0</td><td>2</td></tr><tr><td>4.7</td><td>3.2</td><td>1.3</td><td>0.2</td><td>0</td><td>3</td></tr><tr><td>4.6</td><td>3.1</td><td>1.5</td><td>0.2</td><td>0</td><td>4</td></tr><tr><td>5.0</td><td>3.6</td><td>1.4</td><td>0.2</td><td>0</td><td>5</td></tr></tbody></table></div>"
      ]
     },
     "metadata": {
      "application/vnd.databricks.v1+output": {
       "addedWidgets": {},
       "aggData": [],
       "aggError": "",
       "aggOverflow": false,
       "aggSchema": [],
       "aggSeriesLimitReached": false,
       "aggType": "",
       "arguments": {},
       "columnCustomDisplayInfos": {},
       "data": [
        [
         5.1,
         3.5,
         1.4,
         0.2,
         0,
         1
        ],
        [
         4.9,
         3,
         1.4,
         0.2,
         0,
         2
        ],
        [
         4.7,
         3.2,
         1.3,
         0.2,
         0,
         3
        ],
        [
         4.6,
         3.1,
         1.5,
         0.2,
         0,
         4
        ],
        [
         5,
         3.6,
         1.4,
         0.2,
         0,
         5
        ]
       ],
       "datasetInfos": [],
       "dbfsResultPath": null,
       "isJsonSchema": true,
       "metadata": {},
       "overflow": false,
       "plotOptions": {
        "customPlotOptions": {},
        "displayType": "table",
        "pivotAggregation": null,
        "pivotColumns": null,
        "xColumns": null,
        "yColumns": null
       },
       "removedWidgets": [],
       "schema": [
        {
         "metadata": "{}",
         "name": "sepal_length_cm",
         "type": "\"double\""
        },
        {
         "metadata": "{}",
         "name": "sepal_width_cm",
         "type": "\"double\""
        },
        {
         "metadata": "{}",
         "name": "petal_length_cm",
         "type": "\"double\""
        },
        {
         "metadata": "{}",
         "name": "petal_width_cm",
         "type": "\"double\""
        },
        {
         "metadata": "{}",
         "name": "species",
         "type": "\"long\""
        },
        {
         "metadata": "{}",
         "name": "id",
         "type": "\"long\""
        }
       ],
       "type": "table"
      }
     },
     "output_type": "display_data"
    }
   ],
   "source": [
    "try:\n",
    "    display(spark.table(f\"{catalog_name}.default.iris_data\").limit(5))\n",
    "    table_exists = True\n",
    "except:\n",
    "    table_exists = False"
   ]
  },
  {
   "cell_type": "code",
   "execution_count": 0,
   "metadata": {
    "application/vnd.databricks.v1+cell": {
     "cellMetadata": {
      "byteLimit": 2048000,
      "rowLimit": 10000
     },
     "inputWidgets": {},
     "nuid": "ebf03859-daa6-409e-a0f8-19c65d4492d2",
     "showTitle": false,
     "tableResultSettingsMap": {},
     "title": ""
    }
   },
   "outputs": [],
   "source": [
    "if table_exists: # append\n",
    "    df_spark.write.mode(\"append\").saveAsTable(f\"{catalog_name}.default.iris_inferences\")\n",
    "else: # create table from scratch\n",
    "    df_spark.write.mode(\"overwrite\").saveAsTable(f\"{catalog_name}.default.iris_inferences\")"
   ]
  },
  {
   "cell_type": "code",
   "execution_count": 0,
   "metadata": {
    "application/vnd.databricks.v1+cell": {
     "cellMetadata": {
      "byteLimit": 2048000,
      "rowLimit": 10000
     },
     "inputWidgets": {},
     "nuid": "a1ef9455-6e30-4e46-abb2-780440abe526",
     "showTitle": false,
     "tableResultSettingsMap": {},
     "title": ""
    }
   },
   "outputs": [
    {
     "data": {
      "text/html": [
       "<style scoped>\n",
       "  .table-result-container {\n",
       "    max-height: 300px;\n",
       "    overflow: auto;\n",
       "  }\n",
       "  table, th, td {\n",
       "    border: 1px solid black;\n",
       "    border-collapse: collapse;\n",
       "  }\n",
       "  th, td {\n",
       "    padding: 5px;\n",
       "  }\n",
       "  th {\n",
       "    text-align: left;\n",
       "  }\n",
       "</style><div class='table-result-container'><table class='table-result'><thead style='background-color: white'><tr><th>sepal_length_cm</th><th>sepal_width_cm</th><th>petal_length_cm</th><th>petal_width_cm</th><th>prediction</th><th>actual_label</th><th>prediction_timestamp</th><th>model_id_col</th></tr></thead><tbody><tr><td>5.1</td><td>3.5</td><td>1.4</td><td>0.2</td><td>0</td><td>0</td><td>2025-08-11 13:08:48</td><td>pedroz_e2edata_dev.default.iris_model@21</td></tr><tr><td>4.9</td><td>3.0</td><td>1.4</td><td>0.2</td><td>0</td><td>0</td><td>2025-08-11 13:08:48</td><td>pedroz_e2edata_dev.default.iris_model@21</td></tr><tr><td>4.7</td><td>3.2</td><td>1.3</td><td>0.2</td><td>0</td><td>0</td><td>2025-08-11 13:08:48</td><td>pedroz_e2edata_dev.default.iris_model@21</td></tr><tr><td>4.6</td><td>3.1</td><td>1.5</td><td>0.2</td><td>0</td><td>0</td><td>2025-08-11 13:08:48</td><td>pedroz_e2edata_dev.default.iris_model@21</td></tr><tr><td>5.0</td><td>3.6</td><td>1.4</td><td>0.2</td><td>0</td><td>0</td><td>2025-08-11 13:08:48</td><td>pedroz_e2edata_dev.default.iris_model@21</td></tr></tbody></table></div>"
      ]
     },
     "metadata": {
      "application/vnd.databricks.v1+output": {
       "addedWidgets": {},
       "aggData": [],
       "aggError": "",
       "aggOverflow": false,
       "aggSchema": [],
       "aggSeriesLimitReached": false,
       "aggType": "",
       "arguments": {},
       "columnCustomDisplayInfos": {},
       "data": [
        [
         5.1,
         3.5,
         1.4,
         0.2,
         0,
         0,
         "2025-08-11 13:08:48",
         "pedroz_e2edata_dev.default.iris_model@21"
        ],
        [
         4.9,
         3,
         1.4,
         0.2,
         0,
         0,
         "2025-08-11 13:08:48",
         "pedroz_e2edata_dev.default.iris_model@21"
        ],
        [
         4.7,
         3.2,
         1.3,
         0.2,
         0,
         0,
         "2025-08-11 13:08:48",
         "pedroz_e2edata_dev.default.iris_model@21"
        ],
        [
         4.6,
         3.1,
         1.5,
         0.2,
         0,
         0,
         "2025-08-11 13:08:48",
         "pedroz_e2edata_dev.default.iris_model@21"
        ],
        [
         5,
         3.6,
         1.4,
         0.2,
         0,
         0,
         "2025-08-11 13:08:48",
         "pedroz_e2edata_dev.default.iris_model@21"
        ]
       ],
       "datasetInfos": [],
       "dbfsResultPath": null,
       "isJsonSchema": true,
       "metadata": {},
       "overflow": false,
       "plotOptions": {
        "customPlotOptions": {},
        "displayType": "table",
        "pivotAggregation": null,
        "pivotColumns": null,
        "xColumns": null,
        "yColumns": null
       },
       "removedWidgets": [],
       "schema": [
        {
         "metadata": "{}",
         "name": "sepal_length_cm",
         "type": "\"double\""
        },
        {
         "metadata": "{}",
         "name": "sepal_width_cm",
         "type": "\"double\""
        },
        {
         "metadata": "{}",
         "name": "petal_length_cm",
         "type": "\"double\""
        },
        {
         "metadata": "{}",
         "name": "petal_width_cm",
         "type": "\"double\""
        },
        {
         "metadata": "{}",
         "name": "prediction",
         "type": "\"long\""
        },
        {
         "metadata": "{}",
         "name": "actual_label",
         "type": "\"long\""
        },
        {
         "metadata": "{}",
         "name": "prediction_timestamp",
         "type": "\"string\""
        },
        {
         "metadata": "{}",
         "name": "model_id_col",
         "type": "\"string\""
        }
       ],
       "type": "table"
      }
     },
     "output_type": "display_data"
    }
   ],
   "source": [
    "display(spark.sql(f\"SELECT * FROM {catalog_name}.default.iris_inferences LIMIT 5\"))"
   ]
  }
 ],
 "metadata": {
  "application/vnd.databricks.v1+notebook": {
   "computePreferences": {
    "hardware": {
     "accelerator": null,
     "gpuPoolId": null,
     "memory": null
    }
   },
   "dashboards": [],
   "environmentMetadata": {
    "base_environment": "",
    "environment_version": "2"
   },
   "inputWidgetPreferences": null,
   "language": "python",
   "notebookMetadata": {
    "mostRecentlyExecutedCommandWithImplicitDF": {
     "commandId": 6623450943765552,
     "dataframes": [
      "_sqldf"
     ]
    },
    "pythonIndentUnit": 4
   },
   "notebookName": "batch-inference",
   "widgets": {
    "catalog_name": {
     "currentValue": "pedroz_e2edata_dev",
     "nuid": "6ef15a2c-f408-4625-aa2e-4b36d2e9efcb",
     "typedWidgetInfo": {
      "autoCreated": false,
      "defaultValue": "pedroz_e2edata_dev",
      "label": null,
      "name": "catalog_name",
      "options": {
       "validationRegex": null,
       "widgetDisplayType": "Text"
      },
      "parameterDataType": "String"
     },
     "widgetInfo": {
      "defaultValue": "pedroz_e2edata_dev",
      "label": null,
      "name": "catalog_name",
      "options": {
       "autoCreated": null,
       "validationRegex": null,
       "widgetType": "text"
      },
      "widgetType": "text"
     }
    }
   }
  },
  "language_info": {
   "name": "python"
  }
 },
 "nbformat": 4,
 "nbformat_minor": 0
}
